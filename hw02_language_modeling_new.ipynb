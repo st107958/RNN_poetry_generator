{
 "cells": [
  {
   "cell_type": "code",
   "metadata": {},
   "source": [
    "import string\n",
    "import os\n",
    "from random import sample\n",
    "\n",
    "import numpy as np\n",
    "import torch, torch.nn as nn\n",
    "import torch.nn.functional as F\n",
    "\n",
    "from IPython.display import clear_output\n",
    "\n",
    "import matplotlib.pyplot as plt"
   ],
   "outputs": [],
   "execution_count": null
  },
  {
   "metadata": {},
   "cell_type": "code",
   "source": [
    "\n",
    "print(\"Версия CUDA, с которой собран PyTorch:\", torch.version.cuda)\n",
    "print(\"CUDA доступен на устройстве:\", torch.cuda.is_available())\n"
   ],
   "outputs": [],
   "execution_count": null
  },
  {
   "metadata": {},
   "cell_type": "code",
   "source": [
    "from tqdm.auto import tqdm as tqdma\n",
    "import torch.optim as optim\n",
    "from torch.optim.lr_scheduler import ReduceLROnPlateau, StepLR"
   ],
   "outputs": [],
   "execution_count": null
  },
  {
   "cell_type": "code",
   "metadata": {},
   "source": [
    "device = torch.device('cuda') if torch.cuda.is_available() else torch.device('cpu')\n",
    "print('{} device is available'.format(device))"
   ],
   "outputs": [],
   "execution_count": null
  },
  {
   "cell_type": "code",
   "metadata": {},
   "source": [
    "with open('onegin.txt', 'r', encoding='utf-8') as iofile:\n",
    "    text = iofile.readlines()\n",
    "    \n",
    "text = \"\".join([x.replace('\\t\\t', '').lower() for x in text])"
   ],
   "outputs": [],
   "execution_count": null
  },
  {
   "attachments": {},
   "cell_type": "markdown",
   "metadata": {
    "id": "XQYpmGfR_gJ8"
   },
   "source": [
    "#### Построение словаря и предобработка текста\n",
    "В данном задании требуется построить языковую модель на уровне символов. Приведем весь текст к нижнему регистру и построим словарь из всех символов в доступном корпусе текстов. Также добавим токен `<sos>`."
   ]
  },
  {
   "cell_type": "code",
   "metadata": {},
   "source": [
    "tokens = sorted(set(text.lower())) + ['<sos>']\n",
    "num_tokens = len(tokens)\n",
    "print(tokens)\n",
    "assert num_tokens == 84, \"Check the tokenization process\"\n",
    "\n",
    "token_to_idx = {x: idx for idx, x in enumerate(tokens)}\n",
    "idx_to_token = {idx: x for idx, x in enumerate(tokens)}\n",
    "\n",
    "assert len(tokens) == len(token_to_idx), \"Mapping should be unique\"\n",
    "\n",
    "print(\"Done!\")\n",
    "\n",
    "text_encoded = [token_to_idx[x] for x in text]"
   ],
   "outputs": [],
   "execution_count": null
  },
  {
   "metadata": {},
   "cell_type": "code",
   "source": [
    "batch_size = 256\n",
    "seq_length = 100\n",
    "start_column = np.zeros((batch_size, 1), dtype=int) + token_to_idx['<sos>']\n",
    "# print(start_column.shape)\n",
    "# print(start_column)\n",
    "def generate_chunk():\n",
    "    global text_encoded, start_column, batch_size, seq_length\n",
    "\n",
    "    start_index = np.random.randint(0, len(text_encoded) - batch_size*seq_length - 1)\n",
    "    data = np.array(text_encoded[start_index:start_index + batch_size*seq_length]).reshape((batch_size, -1))\n",
    "    yield np.hstack((start_column, data))"
   ],
   "outputs": [],
   "execution_count": null
  },
  {
   "cell_type": "code",
   "metadata": {},
   "source": [
    "next(generate_chunk())"
   ],
   "outputs": [],
   "execution_count": null
  },
  {
   "metadata": {},
   "cell_type": "markdown",
   "source": "### Архитектора нейросети"
  },
  {
   "metadata": {},
   "cell_type": "code",
   "source": [
    "class generator(nn.Module):\n",
    "    def __init__(self, inp_size, hidden_size, out_size, num_layers, batch_size):\n",
    "        super(generator, self).__init__()\n",
    "        self.input_size = inp_size\n",
    "        self.hidden_size = hidden_size\n",
    "        self.output_size = out_size\n",
    "        self.n_layers = num_layers\n",
    "        self.batch_size = batch_size\n",
    "        \n",
    "        self.embedding = nn.Embedding(inp_size, hidden_size, device=device)\n",
    "        self.gru = nn.GRU(inp_size, hidden_size, num_layers, batch_first=True, device=device)\n",
    "        self.fc = nn.Linear(hidden_size, out_size)\n",
    "        \n",
    "    def forward(self, input, hidden):\n",
    "        input = self.embedding(input)\n",
    "        output, hidden = self.gru(input, hidden)\n",
    "\n",
    "        if output.dim() == 3:\n",
    "            output = output[:, -1, :] \n",
    "        elif output.dim() == 2:\n",
    "            output = output[-1, :]\n",
    "        else:\n",
    "            raise ValueError(\"Unexpected output dimensions\")\n",
    "        \n",
    "        logits = self.fc(output)\n",
    "        return logits, hidden\n",
    "    \n",
    "    def init_hidden(self):\n",
    "        return torch.zeros(self.n_layers, self.batch_size, self.hidden_size).to(device)\n",
    "        "
   ],
   "outputs": [],
   "execution_count": null
  },
  {
   "metadata": {},
   "cell_type": "code",
   "source": [
    "inp_size = num_tokens\n",
    "hidden_size = num_tokens\n",
    "out_size = num_tokens\n",
    "batch_size = 256\n",
    "num_layers = 1\n",
    "\n",
    "model = generator(inp_size, hidden_size, out_size, num_layers, batch_size)\n",
    "model = model.to(device)\n",
    "\n",
    "criterion = nn.CrossEntropyLoss()  \n",
    "optimizer = optim.Adam(model.parameters(), lr=0.01)\n",
    "lr_scheduler = ReduceLROnPlateau(optimizer, factor=0.5, patience=300)"
   ],
   "outputs": [],
   "execution_count": null
  },
  {
   "metadata": {},
   "cell_type": "code",
   "source": [
    "def model_fit(model, \n",
    "              num_epochs,\n",
    "              batch_size,\n",
    "              seq_length,\n",
    "              device=device, \n",
    "              optimizer=optimizer):\n",
    "    loss_history = []\n",
    "    \n",
    "    for epoch in tqdma(range(num_epochs)):\n",
    "        hidden = model.init_hidden()\n",
    "        optimizer.zero_grad()\n",
    "        \n",
    "        data = next(generate_chunk())\n",
    "        input = torch.from_numpy(data[:, :-1]).to(device)\n",
    "        target = torch.from_numpy(data[:, -1]).to(device)\n",
    "        target = torch.tensor(target, dtype=torch.long, device=device)\n",
    "        # print(input, target)\n",
    "        \n",
    "        logits, hidden = model(input, hidden)\n",
    "        \n",
    "        loss = criterion(logits, target)\n",
    "\n",
    "        loss.backward()\n",
    "        optimizer.step()\n",
    "        \n",
    "        loss_history.append(loss.item())\n",
    "        lr_scheduler.step(loss_history[-1])\n",
    "\n",
    "        if epoch % 100 == 0:\n",
    "            print(\n",
    "                f\"Step {epoch}, Loss: {np.mean(loss_history[-1000:])}, learning rate: {lr_scheduler._last_lr}\"\n",
    "            )"
   ],
   "outputs": [],
   "execution_count": null
  },
  {
   "metadata": {},
   "cell_type": "code",
   "source": [
    "num_epochs = 10000\n",
    "batch_size = 256\n",
    "seq_length = 100\n",
    "\n",
    "model_fit(model, num_epochs, batch_size, seq_length)"
   ],
   "outputs": [],
   "execution_count": null
  },
  {
   "metadata": {},
   "cell_type": "markdown",
   "source": "### Генерация"
  },
  {
   "cell_type": "code",
   "metadata": {},
   "source": [
    "def generate_sample(char_rnn, seed_phrase=None, max_length=200, temperature=0.5, device=device):\n",
    "    \n",
    "    if seed_phrase is not None:\n",
    "        x_sequence = [token_to_idx['<sos>']] + [token_to_idx[token] for token in seed_phrase]\n",
    "    else: \n",
    "        x_sequence = [token_to_idx['<sos>']]\n",
    "    \n",
    "    input_tensor = torch.tensor(x_sequence, dtype=torch.long, device=device)\n",
    "    start_tensor = torch.zeros((1, num_tokens),device=device)\n",
    "    \n",
    "    for i in range(max_length-len(seed_phrase)):\n",
    "        model.eval()\n",
    "        with torch.no_grad():\n",
    "            logits, hidden = model(input_tensor, start_tensor)\n",
    "    \n",
    "        probabilities = F.softmax(logits / temperature, dim=-1)\n",
    "        next_idx_char = torch.multinomial(probabilities, num_samples=1)\n",
    "\n",
    "        x_sequence += [next_idx_char]\n",
    "        input_tensor = torch.tensor(x_sequence, dtype=torch.long, device=device)\n",
    "    \n",
    "    x_sequence.pop(0)\n",
    "    assert len(x_sequence) == max_length , 'check length'\n",
    "    \n",
    "    x_sequence = torch.tensor([x_sequence], dtype=torch.int64).to(device)\n",
    "    \n",
    "    return ''.join([tokens[ix] for ix in x_sequence.cpu().data.numpy()[0]])"
   ],
   "outputs": [],
   "execution_count": null
  },
  {
   "cell_type": "code",
   "metadata": {},
   "source": "print(generate_sample(model, ' мой дядя самых честных правил', max_length=500, temperature=1.01))",
   "outputs": [],
   "execution_count": null
  }
 ],
 "metadata": {
  "accelerator": "GPU",
  "anaconda-cloud": {},
  "colab": {
   "collapsed_sections": [],
   "name": "NLP HW Lab01_Poetry_generation.v5.ipynb",
   "provenance": []
  },
  "kernelspec": {
   "display_name": "Python 3 (ipykernel)",
   "language": "python",
   "name": "python3"
  },
  "language_info": {
   "codemirror_mode": {
    "name": "ipython",
    "version": 3
   },
   "file_extension": ".py",
   "mimetype": "text/x-python",
   "name": "python",
   "nbconvert_exporter": "python",
   "pygments_lexer": "ipython3",
   "version": "3.7.10"
  }
 },
 "nbformat": 4,
 "nbformat_minor": 1
}
